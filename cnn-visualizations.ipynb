{
 "cells": [
  {
   "cell_type": "markdown",
   "metadata": {},
   "source": [
    "# CNN Filter and Feature Visualization \n",
    "\n",
    "This notebook outlines various methods for looking at filters and feature maps in CNN models. I think visually, so this is really meant to help me understand what is going on under the hood. I hope you find it useful as well. \n",
    "\n",
    "**Note:** I've included a `/helper_functions.py` file in the `/src` directory."
   ]
  },
  {
   "cell_type": "code",
   "execution_count": 246,
   "metadata": {},
   "outputs": [],
   "source": [
    "import torch\n",
    "import torch.nn as nn\n",
    "from torchvision import models\n",
    "import numpy as np\n",
    "from PIL import Image\n",
    "from PIL import ImageFile\n",
    "import matplotlib.pyplot as plt\n",
    "from helper_functions import plot_filter\n",
    "\n",
    "ImageFile.LOAD_TRUNCATED_IMAGES = True\n",
    "%matplotlib inline  \n",
    "%config InlineBackend.figure_format = 'retina'"
   ]
  },
  {
   "cell_type": "markdown",
   "metadata": {},
   "source": [
    "## Load the Model\n",
    "Here we will load a pretrained model from Pytorch. We will be using the VGG16 model in evaluation mode. Let's print the model to take a look at the various layers. The model has three children:\n",
    "* features\n",
    "* avgpool\n",
    "* classifier\n",
    "\n",
    "It is the features that we are interested in extracting weights from. Essentially, these weights in the Conv2d layers make up the filters that will pass over each image during a forward pass through the network. Let's take a look at the model and each filter. "
   ]
  },
  {
   "cell_type": "code",
   "execution_count": 138,
   "metadata": {
    "tags": [
     "outputPrepend"
    ]
   },
   "outputs": [
    {
     "name": "stdout",
     "output_type": "stream",
     "text": [
      "VGG(\n",
      "  (features): Sequential(\n",
      "    (0): Conv2d(3, 64, kernel_size=(3, 3), stride=(1, 1), padding=(1, 1))\n",
      "    (1): ReLU(inplace=True)\n",
      "    (2): Conv2d(64, 64, kernel_size=(3, 3), stride=(1, 1), padding=(1, 1))\n",
      "    (3): ReLU(inplace=True)\n",
      "    (4): MaxPool2d(kernel_size=2, stride=2, padding=0, dilation=1, ceil_mode=False)\n",
      "    (5): Conv2d(64, 128, kernel_size=(3, 3), stride=(1, 1), padding=(1, 1))\n",
      "    (6): ReLU(inplace=True)\n",
      "    (7): Conv2d(128, 128, kernel_size=(3, 3), stride=(1, 1), padding=(1, 1))\n",
      "    (8): ReLU(inplace=True)\n",
      "    (9): MaxPool2d(kernel_size=2, stride=2, padding=0, dilation=1, ceil_mode=False)\n",
      "    (10): Conv2d(128, 256, kernel_size=(3, 3), stride=(1, 1), padding=(1, 1))\n",
      "    (11): ReLU(inplace=True)\n",
      "    (12): Conv2d(256, 256, kernel_size=(3, 3), stride=(1, 1), padding=(1, 1))\n",
      "    (13): ReLU(inplace=True)\n",
      "    (14): Conv2d(256, 256, kernel_size=(3, 3), stride=(1, 1), padding=(1, 1))\n",
      "    (15): ReLU(inplace=True)\n",
      "    (16): MaxPool2d(kernel_size=2, stride=2, padding=0, dilation=1, ceil_mode=False)\n",
      "    (17): Conv2d(256, 512, kernel_size=(3, 3), stride=(1, 1), padding=(1, 1))\n",
      "    (18): ReLU(inplace=True)\n",
      "    (19): Conv2d(512, 512, kernel_size=(3, 3), stride=(1, 1), padding=(1, 1))\n",
      "    (20): ReLU(inplace=True)\n",
      "    (21): Conv2d(512, 512, kernel_size=(3, 3), stride=(1, 1), padding=(1, 1))\n",
      "    (22): ReLU(inplace=True)\n",
      "    (23): MaxPool2d(kernel_size=2, stride=2, padding=0, dilation=1, ceil_mode=False)\n",
      "    (24): Conv2d(512, 512, kernel_size=(3, 3), stride=(1, 1), padding=(1, 1))\n",
      "    (25): ReLU(inplace=True)\n",
      "    (26): Conv2d(512, 512, kernel_size=(3, 3), stride=(1, 1), padding=(1, 1))\n",
      "    (27): ReLU(inplace=True)\n",
      "    (28): Conv2d(512, 512, kernel_size=(3, 3), stride=(1, 1), padding=(1, 1))\n",
      "    (29): ReLU(inplace=True)\n",
      "    (30): MaxPool2d(kernel_size=2, stride=2, padding=0, dilation=1, ceil_mode=False)\n",
      "  )\n",
      "  (avgpool): AdaptiveAvgPool2d(output_size=(7, 7))\n",
      "  (classifier): Sequential(\n",
      "    (0): Linear(in_features=25088, out_features=4096, bias=True)\n",
      "    (1): ReLU(inplace=True)\n",
      "    (2): Dropout(p=0.5, inplace=False)\n",
      "    (3): Linear(in_features=4096, out_features=4096, bias=True)\n",
      "    (4): ReLU(inplace=True)\n",
      "    (5): Dropout(p=0.5, inplace=False)\n",
      "    (6): Linear(in_features=4096, out_features=1000, bias=True)\n",
      "  )\n",
      ")\n"
     ]
    }
   ],
   "source": [
    "model = models.vgg16(pretrained=True)\n",
    "print(model)"
   ]
  },
  {
   "cell_type": "code",
   "execution_count": 199,
   "metadata": {},
   "outputs": [],
   "source": [
    "model_weights, conv_layers = [], []\n",
    "features = model.features\n",
    "conv_counter = 0\n",
    "\n",
    "for i in range(len(features)):\n",
    "    if type(features[i]) == nn.Conv2d:\n",
    "        conv_counter += 1\n",
    "        model_weights.append(features[i].weight)\n",
    "        conv_layers.append(features[i])"
   ]
  },
  {
   "cell_type": "markdown",
   "metadata": {},
   "source": [
    "## Convolution Layers\n",
    "\n",
    "I'll print out each convolutional layer to take a look at the depth and tensor size.  "
   ]
  },
  {
   "cell_type": "code",
   "execution_count": 189,
   "metadata": {},
   "outputs": [
    {
     "name": "stdout",
     "output_type": "stream",
     "text": [
      "Conv layer 1: Conv2d(3, 64, kernel_size=(3, 3), stride=(1, 1), padding=(1, 1)) --> Shape: torch.Size([64, 3, 3, 3])\n",
      "Conv layer 2: Conv2d(64, 64, kernel_size=(3, 3), stride=(1, 1), padding=(1, 1)) --> Shape: torch.Size([64, 64, 3, 3])\n",
      "Conv layer 3: Conv2d(64, 128, kernel_size=(3, 3), stride=(1, 1), padding=(1, 1)) --> Shape: torch.Size([128, 64, 3, 3])\n",
      "Conv layer 4: Conv2d(128, 128, kernel_size=(3, 3), stride=(1, 1), padding=(1, 1)) --> Shape: torch.Size([128, 128, 3, 3])\n",
      "Conv layer 5: Conv2d(128, 256, kernel_size=(3, 3), stride=(1, 1), padding=(1, 1)) --> Shape: torch.Size([256, 128, 3, 3])\n",
      "Conv layer 6: Conv2d(256, 256, kernel_size=(3, 3), stride=(1, 1), padding=(1, 1)) --> Shape: torch.Size([256, 256, 3, 3])\n",
      "Conv layer 7: Conv2d(256, 256, kernel_size=(3, 3), stride=(1, 1), padding=(1, 1)) --> Shape: torch.Size([256, 256, 3, 3])\n",
      "Conv layer 8: Conv2d(256, 512, kernel_size=(3, 3), stride=(1, 1), padding=(1, 1)) --> Shape: torch.Size([512, 256, 3, 3])\n",
      "Conv layer 9: Conv2d(512, 512, kernel_size=(3, 3), stride=(1, 1), padding=(1, 1)) --> Shape: torch.Size([512, 512, 3, 3])\n",
      "Conv layer 10: Conv2d(512, 512, kernel_size=(3, 3), stride=(1, 1), padding=(1, 1)) --> Shape: torch.Size([512, 512, 3, 3])\n",
      "Conv layer 11: Conv2d(512, 512, kernel_size=(3, 3), stride=(1, 1), padding=(1, 1)) --> Shape: torch.Size([512, 512, 3, 3])\n",
      "Conv layer 12: Conv2d(512, 512, kernel_size=(3, 3), stride=(1, 1), padding=(1, 1)) --> Shape: torch.Size([512, 512, 3, 3])\n",
      "Conv layer 13: Conv2d(512, 512, kernel_size=(3, 3), stride=(1, 1), padding=(1, 1)) --> Shape: torch.Size([512, 512, 3, 3])\n"
     ]
    }
   ],
   "source": [
    "for i, (weights, layers) in enumerate(zip(model_weights, conv_layers)):\n",
    "    print('Conv layer {}: {} --> Shape: {}'.format(i+1, layers, weights.shape))\n",
    "          "
   ]
  },
  {
   "cell_type": "markdown",
   "metadata": {},
   "source": [
    "## Filters\n",
    "\n",
    "Looking at the first filter in Conv layer 1 (`model_weights[idx of conv layer][idx of the filter]`) we can see that it has a `kernel_size = (3, 3)`."
   ]
  },
  {
   "cell_type": "code",
   "execution_count": 214,
   "metadata": {},
   "outputs": [
    {
     "data": {
      "text/plain": [
       "tensor([[[-0.5537,  0.1427,  0.5290],\n",
       "         [-0.5831,  0.3566,  0.7657],\n",
       "         [-0.6902, -0.0480,  0.4841]],\n",
       "\n",
       "        [[ 0.1755,  0.0099, -0.0814],\n",
       "         [ 0.0441, -0.0703, -0.2604],\n",
       "         [ 0.1324, -0.1728, -0.1323]],\n",
       "\n",
       "        [[ 0.3130, -0.1659, -0.4275],\n",
       "         [ 0.4752, -0.0827, -0.4870],\n",
       "         [ 0.6320,  0.0193, -0.2775]]], grad_fn=<SelectBackward>)"
      ]
     },
     "execution_count": 214,
     "metadata": {},
     "output_type": "execute_result"
    },
    {
     "data": {
      "text/plain": [
       "<Figure size 720x720 with 0 Axes>"
      ]
     },
     "metadata": {},
     "output_type": "display_data"
    }
   ],
   "source": [
    "plt.figure(figsize=[10, 10])\n",
    "model_weights[0][0]"
   ]
  },
  {
   "cell_type": "code",
   "execution_count": 228,
   "metadata": {},
   "outputs": [
    {
     "name": "stdout",
     "output_type": "stream",
     "text": [
      "64\n",
      "11\n"
     ]
    }
   ],
   "source": [
    "print(features[0].out_channels)\n",
    "out_channels = features[5].out_channels\n",
    "print(int(np.sqrt(out_channels)))"
   ]
  },
  {
   "cell_type": "code",
   "execution_count": 247,
   "metadata": {},
   "outputs": [
    {
     "ename": "TypeError",
     "evalue": "plot_filter() takes from 0 to 4 positional arguments but 5 were given",
     "output_type": "error",
     "traceback": [
      "\u001b[0;31m---------------------------------------------------------------------------\u001b[0m",
      "\u001b[0;31mTypeError\u001b[0m                                 Traceback (most recent call last)",
      "\u001b[0;32m<ipython-input-247-22a14d43c0ab>\u001b[0m in \u001b[0;36m<module>\u001b[0;34m\u001b[0m\n\u001b[0;32m----> 1\u001b[0;31m \u001b[0mplot_filter\u001b[0m\u001b[0;34m(\u001b[0m\u001b[0mmodel_weights\u001b[0m\u001b[0;34m,\u001b[0m \u001b[0;36m1\u001b[0m\u001b[0;34m,\u001b[0m \u001b[0;36m6\u001b[0m\u001b[0;34m,\u001b[0m \u001b[0;36m8\u001b[0m\u001b[0;34m,\u001b[0m \u001b[0;36m8\u001b[0m\u001b[0;34m)\u001b[0m\u001b[0;34m\u001b[0m\u001b[0;34m\u001b[0m\u001b[0m\n\u001b[0m",
      "\u001b[0;31mTypeError\u001b[0m: plot_filter() takes from 0 to 4 positional arguments but 5 were given"
     ]
    }
   ],
   "source": [
    "plot_filter(model_weights, 1, 6, 8, 8)"
   ]
  },
  {
   "cell_type": "code",
   "execution_count": null,
   "metadata": {},
   "outputs": [],
   "source": []
  }
 ],
 "metadata": {
  "kernelspec": {
   "display_name": "Python 3",
   "language": "python",
   "name": "python3"
  },
  "language_info": {
   "codemirror_mode": {
    "name": "ipython",
    "version": 3
   },
   "file_extension": ".py",
   "mimetype": "text/x-python",
   "name": "python",
   "nbconvert_exporter": "python",
   "pygments_lexer": "ipython3",
   "version": "3.8.2"
  }
 },
 "nbformat": 4,
 "nbformat_minor": 4
}
